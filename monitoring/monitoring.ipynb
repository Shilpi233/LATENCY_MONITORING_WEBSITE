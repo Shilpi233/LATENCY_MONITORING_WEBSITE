{
 "cells": [
  {
   "cell_type": "code",
   "execution_count": 1,
   "metadata": {},
   "outputs": [
    {
     "name": "stdout",
     "output_type": "stream",
     "text": [
      "The ping time for www.google.com is 0.011181116104125977 seconds\n",
      "The ping time for www.google.com is 0.01622462272644043 seconds\n",
      "The ping time for www.google.com is 0.017205238342285156 seconds\n",
      "The ping time for www.google.com is 0.014605283737182617 seconds\n",
      "The ping time for www.google.com is 0.014309167861938477 seconds\n",
      "The ping time for www.google.com is 0.027759790420532227 seconds\n",
      "The ping time for www.google.com is 0.01564168930053711 seconds\n",
      "The ping time for www.google.com is 0.33715057373046875 seconds\n",
      "The ping time for www.google.com is 0.014832735061645508 seconds\n",
      "The ping time for www.google.com is 0.019420385360717773 seconds\n",
      "The ping time for www.google.com is 0.02489018440246582 seconds\n",
      "The ping time for www.google.com is 0.015506744384765625 seconds\n",
      "The ping time for www.google.com is 0.016709089279174805 seconds\n",
      "The ping time for www.google.com is 0.01601433753967285 seconds\n",
      "The ping time for www.google.com is 0.024593830108642578 seconds\n"
     ]
    },
    {
     "ename": "KeyboardInterrupt",
     "evalue": "",
     "output_type": "error",
     "traceback": [
      "\u001b[1;31m---------------------------------------------------------------------------\u001b[0m",
      "\u001b[1;31mKeyboardInterrupt\u001b[0m                         Traceback (most recent call last)",
      "Cell \u001b[1;32mIn[1], line 18\u001b[0m\n\u001b[0;32m     15\u001b[0m         time\u001b[38;5;241m.\u001b[39msleep(\u001b[38;5;241m10\u001b[39m)  \u001b[38;5;66;03m# Wait for 10 seconds\u001b[39;00m\n\u001b[0;32m     17\u001b[0m \u001b[38;5;66;03m# Usage\u001b[39;00m\n\u001b[1;32m---> 18\u001b[0m ping_website_every_10_seconds(\u001b[38;5;124m'\u001b[39m\u001b[38;5;124mwww.google.com\u001b[39m\u001b[38;5;124m'\u001b[39m, timeout\u001b[38;5;241m=\u001b[39m\u001b[38;5;241m4\u001b[39m)\n",
      "Cell \u001b[1;32mIn[1], line 15\u001b[0m, in \u001b[0;36mping_website_every_10_seconds\u001b[1;34m(url, timeout)\u001b[0m\n\u001b[0;32m     12\u001b[0m \u001b[38;5;28;01mexcept\u001b[39;00m \u001b[38;5;167;01mException\u001b[39;00m \u001b[38;5;28;01mas\u001b[39;00m e:\n\u001b[0;32m     13\u001b[0m     \u001b[38;5;28mprint\u001b[39m(\u001b[38;5;124mf\u001b[39m\u001b[38;5;124m'\u001b[39m\u001b[38;5;124mError: \u001b[39m\u001b[38;5;132;01m{\u001b[39;00me\u001b[38;5;132;01m}\u001b[39;00m\u001b[38;5;124m'\u001b[39m)\n\u001b[1;32m---> 15\u001b[0m time\u001b[38;5;241m.\u001b[39msleep(\u001b[38;5;241m10\u001b[39m)\n",
      "\u001b[1;31mKeyboardInterrupt\u001b[0m: "
     ]
    }
   ],
   "source": [
    "import time\n",
    "from ping3 import ping\n",
    "\n",
    "def ping_website_every_10_seconds(url, timeout=4):\n",
    "    while True:\n",
    "        try:\n",
    "            ping_time = ping(url, timeout=timeout)\n",
    "            if ping_time:\n",
    "                print(f'The ping time for {url} is {ping_time} seconds')\n",
    "            else:\n",
    "                print(f'The website {url} is not responding')\n",
    "        except Exception as e:\n",
    "            print(f'Error: {e}')\n",
    "        \n",
    "        time.sleep(10)  # Wait for 10 seconds\n",
    "\n",
    "# Usage\n",
    "ping_website_every_10_seconds('www.google.com', timeout=4)"
   ]
  },
  {
   "cell_type": "code",
   "execution_count": 2,
   "metadata": {},
   "outputs": [
    {
     "name": "stdout",
     "output_type": "stream",
     "text": [
      "The website http://www.google.com is up.\n"
     ]
    }
   ],
   "source": [
    "import requests\n",
    "\n",
    "def check_website_status(url):\n",
    "    try:\n",
    "        response = requests.get(url)\n",
    "        if response.status_code == 200:\n",
    "            return f'The website {url} is up.'\n",
    "        else:\n",
    "            return f'The website {url} is down. Status code: {response.status_code}'\n",
    "    except requests.exceptions.RequestException as err:\n",
    "        return f'Error occurred: {err}'\n",
    "\n",
    "# Usage\n",
    "print(check_website_status('http://www.google.com'))"
   ]
  },
  {
   "cell_type": "code",
   "execution_count": null,
   "metadata": {},
   "outputs": [],
   "source": []
  }
 ],
 "metadata": {
  "kernelspec": {
   "display_name": "base",
   "language": "python",
   "name": "python3"
  },
  "language_info": {
   "codemirror_mode": {
    "name": "ipython",
    "version": 3
   },
   "file_extension": ".py",
   "mimetype": "text/x-python",
   "name": "python",
   "nbconvert_exporter": "python",
   "pygments_lexer": "ipython3",
   "version": "3.11.5"
  }
 },
 "nbformat": 4,
 "nbformat_minor": 2
}
